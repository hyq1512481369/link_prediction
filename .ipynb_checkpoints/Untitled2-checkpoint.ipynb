{
 "cells": [
  {
   "cell_type": "code",
   "execution_count": 48,
   "id": "df1c566c",
   "metadata": {},
   "outputs": [],
   "source": [
    "import torch\n",
    "import torch.nn as nn\n",
    "import torch.nn.functional as F\n",
    "from torchmetrics.retrieval import RetrievalMRR\n",
    "from torchmetrics.functional import retrieval_reciprocal_rank\n",
    "for _ in range(10):\n",
    "    torch.cuda.empty_cache()"
   ]
  },
  {
   "cell_type": "code",
   "execution_count": 168,
   "id": "d2fb512a",
   "metadata": {},
   "outputs": [
    {
     "name": "stdout",
     "output_type": "stream",
     "text": [
      "tensor([[ 0.7995,  0.0609, -0.2687,  0.7675, -0.1928],\n",
      "        [-1.0508,  1.1333, -1.4569,  2.2578,  0.5939],\n",
      "        [-0.5517,  0.7004, -0.7684, -0.1417,  0.8166],\n",
      "        [ 0.1450, -0.3899, -1.8552,  1.0574,  0.0357],\n",
      "        [-0.5846, -0.7427, -0.0745, -0.6864, -0.4712]], device='cuda:0',\n",
      "       grad_fn=<EmbeddingBackward0>)\n",
      "tensor([[1., 3., 5., 2., 4.],\n",
      "        [4., 2., 5., 1., 3.],\n",
      "        [4., 2., 5., 3., 1.],\n",
      "        [2., 4., 5., 1., 3.],\n",
      "        [3., 5., 1., 4., 2.]], device='cuda:0', grad_fn=<SoftRankBackward>)\n",
      "tensor([5., 1., 1., 2., 5.], device='cuda:0', grad_fn=<SqueezeBackward1>)\n",
      "Loss: 0.41999995708465576\n"
     ]
    }
   ],
   "source": [
    "import torch\n",
    "import torch.nn as nn\n",
    "import torchsort\n",
    "\n",
    "class MRRLoss(nn.Module):\n",
    "    def __init__(self):\n",
    "        super(MRRLoss, self).__init__()\n",
    "\n",
    "    def forward(self, logits, target):\n",
    "        # logits: (batch_size, num_classes)\n",
    "        # target: (batch_size, )\n",
    "\n",
    "        # 使用 torchsort 进行可微分的排名\n",
    "        print(logits)\n",
    "        ranks = torchsort.soft_rank(-logits,regularization_strength=0.001)\n",
    "        print(ranks)\n",
    "        target_unsqueezed = target.unsqueeze(1)\n",
    "        \n",
    "        # 获取目标标签的排名\n",
    "        target_ranks = ranks.gather(1, target_unsqueezed).squeeze(1)\n",
    "        print(target_ranks)\n",
    "        # 计算倒数排名\n",
    "        reciprocal_ranks = 1.0 / target_ranks.float()\n",
    "        \n",
    "        # 计算 MRR\n",
    "        mrr = torch.mean(reciprocal_ranks)\n",
    "\n",
    "        \n",
    "        # 损失是负的 MRR（因为我们希望最大化 MRR）\n",
    "        loss = 1-mrr\n",
    "        \n",
    "        return loss*10\n",
    "batch_size = 5\n",
    "dim = 5\n",
    "    \n",
    "device = torch.device('cuda' if torch.cuda.is_available() else 'cpu')\n",
    "embed = nn.Embedding(5, 5).to(device)\n",
    "n_id = torch.tensor([1, 2, 3, 4, 0]).to(device)\n",
    "tail = torch.tensor([2, 3, 4, 0, 1]).to(device)\n",
    "\n",
    "# 确保嵌入层的权重需要梯度\n",
    "embed.weight.requires_grad = True\n",
    "\n",
    "# 创建 MRRLoss 实例\n",
    "criterion = MRRLoss().to(device)\n",
    "\n",
    "# 前向传播\n",
    "logits = embed(n_id)\n",
    "loss = criterion(logits, tail)\n",
    "\n",
    "# 反向传播\n",
    "loss.backward()\n",
    "\n",
    "print(\"Loss:\", loss.item())\n",
    "target_one_hot = F.one_hot(target, num_classes=dim).float().to(device)"
   ]
  },
  {
   "cell_type": "code",
   "execution_count": 167,
   "id": "74a3a811",
   "metadata": {},
   "outputs": [
    {
     "data": {
      "text/plain": [
       "tensor(0.1667, device='cuda:0')"
      ]
     },
     "execution_count": 167,
     "metadata": {},
     "output_type": "execute_result"
    }
   ],
   "source": [
    "target_one_hot = F.one_hot(tail, num_classes=dim).float().to(device)\n",
    "retrieval_reciprocal_rank(-logits,target_one_hot)"
   ]
  },
  {
   "cell_type": "code",
   "execution_count": 87,
   "id": "c6eca4a2",
   "metadata": {},
   "outputs": [
    {
     "name": "stdout",
     "output_type": "stream",
     "text": [
      "Loss: -0.3551948666572571\n"
     ]
    }
   ],
   "source": [
    "import torch\n",
    "import torch.nn as nn\n",
    "import torch.nn.functional as F\n",
    "\n",
    "class SoftMRRLoss(nn.Module):\n",
    "    def __init__(self, sigma=1.0):\n",
    "        super(SoftMRRLoss, self).__init__()\n",
    "        self.sigma = sigma\n",
    "\n",
    "    def forward(self, logits, target):\n",
    "        # logits: (batch_size, num_classes)\n",
    "        # target: (batch_size, num_classes) in one-hot encoded form\n",
    "        \n",
    "        # Apply softmax to logits to get probabilities\n",
    "        probs = torch.softmax(logits, dim=1)\n",
    "        \n",
    "        # Compute the \"soft\" ranks\n",
    "        batch_size, num_classes = probs.shape\n",
    "        ranks = torch.arange(1, num_classes + 1, device=logits.device).view(1, -1).repeat(batch_size, 1)\n",
    "        ranks = ranks.float()\n",
    "        \n",
    "        sorted_probs, sorted_indices = torch.sort(probs, descending=True, dim=1)\n",
    "        sorted_ranks = torch.gather(ranks, 1, sorted_indices.argsort(dim=1))\n",
    "        \n",
    "        # Compute soft ranks\n",
    "        soft_ranks = torch.sum(sorted_probs * sorted_ranks, dim=1)\n",
    "        \n",
    "        # Compute reciprocal ranks\n",
    "        reciprocal_ranks = 1.0 / soft_ranks\n",
    "        \n",
    "        # Compute MRR\n",
    "        mrr = torch.mean(torch.sum(target * reciprocal_ranks.view(-1, 1), dim=1))\n",
    "        \n",
    "        # The loss is the negative MRR (since we want to maximize MRR)\n",
    "        loss = -mrr\n",
    "        \n",
    "        return loss\n",
    "\n",
    "device = torch.device('cuda' if torch.cuda.is_available() else 'cpu')\n",
    "\n",
    "# 模型和数据\n",
    "batch_size = 5\n",
    "dim = 5\n",
    "model = nn.Embedding(10, dim).to(device)\n",
    "\n",
    "n_id = torch.tensor([1, 2, 3, 4, 0]).to(device)\n",
    "target = torch.tensor([2, 3, 4, 0, 1]).to(device)  # 目标编号形状为 (batch_size,)\n",
    "target_one_hot = F.one_hot(target, num_classes=dim).float().to(device)  # 目标转换为多热编码\n",
    "\n",
    "# 前向传播\n",
    "logits = model(n_id)  # 输出形状为 (batch_size, dim)\n",
    "\n",
    "# 初始化 SoftMRRLoss\n",
    "soft_mrr_loss = SoftMRRLoss().to(device)\n",
    "\n",
    "# 计算 MRR 损失\n",
    "loss = soft_mrr_loss(logits, target_one_hot)\n",
    "\n",
    "# 反向传播\n",
    "loss.backward()\n",
    "\n",
    "print(f\"Loss: {loss.item()}\")\n"
   ]
  },
  {
   "cell_type": "code",
   "execution_count": 29,
   "id": "c1496cc3",
   "metadata": {},
   "outputs": [
    {
     "name": "stdout",
     "output_type": "stream",
     "text": [
      "tensor([10000000000, 10000000000,           1,           0])\n"
     ]
    }
   ],
   "source": []
  },
  {
   "cell_type": "code",
   "execution_count": 15,
   "id": "8bab943c",
   "metadata": {},
   "outputs": [
    {
     "name": "stdout",
     "output_type": "stream",
     "text": [
      "tensor([[False, False],\n",
      "        [False, False],\n",
      "        [False,  True],\n",
      "        [ True, False]])\n"
     ]
    }
   ],
   "source": []
  },
  {
   "cell_type": "code",
   "execution_count": null,
   "id": "d4042ac8",
   "metadata": {},
   "outputs": [],
   "source": []
  }
 ],
 "metadata": {
  "kernelspec": {
   "display_name": "geo_",
   "language": "python",
   "name": "geo"
  },
  "language_info": {
   "codemirror_mode": {
    "name": "ipython",
    "version": 3
   },
   "file_extension": ".py",
   "mimetype": "text/x-python",
   "name": "python",
   "nbconvert_exporter": "python",
   "pygments_lexer": "ipython3",
   "version": "3.9.19"
  }
 },
 "nbformat": 4,
 "nbformat_minor": 5
}
